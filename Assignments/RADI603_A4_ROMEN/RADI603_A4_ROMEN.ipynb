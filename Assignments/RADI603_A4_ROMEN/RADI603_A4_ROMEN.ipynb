{
 "cells": [
  {
   "cell_type": "markdown",
   "metadata": {},
   "source": [
    "## **Vectors**\n",
    "\n",
    "**Romen Samuel Rodis Wabina** <br>\n",
    "Student, *PhD Data Science in Healthcare and Clinical Informatics* <br>\n"
   ]
  },
  {
   "cell_type": "code",
   "execution_count": 47,
   "metadata": {},
   "outputs": [
    {
     "name": "stdout",
     "output_type": "stream",
     "text": [
      "1. A * B = 97\n",
      "2. C * D = 44\n",
      "3. A * (B + C) = 257\n",
      "4. (A * B) + (C * D) = 141\n",
      "5. 2A * (D + C) = 490\n"
     ]
    }
   ],
   "source": [
    "import numpy as np \n",
    "\n",
    "A = [5, 10, 12, 9]\n",
    "B = [1, 2, 3, 4]\n",
    "C = [3, 1, 9, 3]\n",
    "D = [4, 2, 3, 1]\n",
    "\n",
    "def vector_addition(A, B):\n",
    "    return list(map(lambda x:x[0]+x[1], zip(A, B)))\n",
    "\n",
    "print(f'1. A * B = {np.dot(A, B)}')\n",
    "print(f'2. C * D = {np.dot(C, D)}')\n",
    "print(f'3. A * (B + C) = {np.dot(A, vector_addition(B, C))}')\n",
    "X, Y = np.dot(A, B), np.dot(C, D)\n",
    "print(f'4. (A * B) + (C * D) = {X + Y}')\n",
    "U, V = np.multiply(A, 2), vector_addition(D, C)\n",
    "print(f'5. 2A * (D + C) = {np.dot(U, V)}')"
   ]
  }
 ],
 "metadata": {
  "kernelspec": {
   "display_name": "Python 3.9.2 64-bit",
   "language": "python",
   "name": "python3"
  },
  "language_info": {
   "codemirror_mode": {
    "name": "ipython",
    "version": 3
   },
   "file_extension": ".py",
   "mimetype": "text/x-python",
   "name": "python",
   "nbconvert_exporter": "python",
   "pygments_lexer": "ipython3",
   "version": "3.9.2"
  },
  "vscode": {
   "interpreter": {
    "hash": "c6a2dc670f3436433c0efae6fb324965c1072d8aef0b90287abce79ee9328779"
   }
  }
 },
 "nbformat": 4,
 "nbformat_minor": 4
}
