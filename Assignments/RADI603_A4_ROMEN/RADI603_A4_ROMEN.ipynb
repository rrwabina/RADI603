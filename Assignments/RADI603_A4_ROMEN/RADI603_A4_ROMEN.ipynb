{
 "cells": [
  {
   "cell_type": "markdown",
   "metadata": {},
   "source": [
    "## **Vectors**\n",
    "\n",
    "**Romen Samuel Rodis Wabina** <br>\n",
    "Student, *PhD Data Science in Healthcare and Clinical Informatics* <br>\n"
   ]
  },
  {
   "cell_type": "code",
   "execution_count": 11,
   "metadata": {},
   "outputs": [
    {
     "name": "stdout",
     "output_type": "stream",
     "text": [
      "1. A * B = 97\n",
      "2. C * D = 44\n",
      "3. A * (B + C) = 257\n",
      "4. (A * B) + (C * D) = 141\n",
      "5. 2A * (D + C) = 490\n"
     ]
    }
   ],
   "source": [
    "import numpy as np \n",
    "import matplotlib.pyplot as plt\n",
    "import math \n",
    "\n",
    "A = [5, 10, 12, 9]\n",
    "B = [1, 2, 3, 4]\n",
    "C = [3, 1, 9, 3]\n",
    "D = [4, 2, 3, 1]\n",
    "\n",
    "def vector_addition(A, B):\n",
    "    return list(map(lambda x:x[0]+x[1], zip(A, B)))\n",
    "\n",
    "print(f'1. A * B = {np.dot(A, B)}')\n",
    "print(f'2. C * D = {np.dot(C, D)}')\n",
    "print(f'3. A * (B + C) = {np.dot(A, vector_addition(B, C))}')\n",
    "X, Y = np.dot(A, B), np.dot(C, D)\n",
    "print(f'4. (A * B) + (C * D) = {X + Y}')\n",
    "U, V = np.multiply(A, 2), vector_addition(D, C)\n",
    "print(f'5. 2A * (D + C) = {np.dot(U, V)}')"
   ]
  },
  {
   "cell_type": "code",
   "execution_count": 2,
   "metadata": {},
   "outputs": [
    {
     "data": {
      "image/png": "[encoded data removed]",
      "text/plain": [
       "<Figure size 432x288 with 1 Axes>"
      ]
     },
     "metadata": {
      "needs_background": "light"
     },
     "output_type": "display_data"
    },
    {
     "data": {
      "text/plain": [
       "[array([0, 0]), array([4, 4])]"
      ]
     },
     "execution_count": 2,
     "metadata": {},
     "output_type": "execute_result"
    }
   ],
   "source": [
    "U = np.array([[0,0], [3, 1]])\n",
    "V = np.array([[0,0], [1, 3]])\n",
    "W = np.array([[0,0], [-2, 3]])\n",
    "origin = np.array([[0, 0],[0, 0]]) # origin point\n",
    "\n",
    "plt.quiver(*origin, U[:,0], U[:,1], color=['b'], scale = 15, label = 'u')\n",
    "plt.quiver(*origin, V[:,0], V[:,1], color=['r'], scale = 15, label = 'v')\n",
    "plt.quiver(*origin, W[:,0], W[:,1], color=['y'], scale = 15, label = 'w')\n",
    "\n",
    "Z = vector_addition(U, V)\n",
    "plt.quiver(*origin, Z[0], Z[1], color=['black'], scale = 15, label = 'z')\n",
    "plt.grid()\n",
    "plt.legend()\n",
    "plt.show()\n",
    "Z"
   ]
  },
  {
   "cell_type": "code",
   "execution_count": 9,
   "metadata": {},
   "outputs": [
    {
     "name": "stdout",
     "output_type": "stream",
     "text": [
      "The Rank of a Matrix (4.1):  3\n",
      "The Rank of a Matrix (4.2):  3\n",
      "The Rank of a Matrix (4.3):  1\n"
     ]
    }
   ],
   "source": [
    "matrixA = [ [ 3,  4,  2], \n",
    "            [ 5,  2,  3], \n",
    "            [-1,  4,  1]]\n",
    "\n",
    "matrixB = [ [ -5, -50,  -20], \n",
    "            [-10,  -2,  -30], \n",
    "            [-70, -30,  -50]]\n",
    "\n",
    "matrixC = [ [ 2, -6, 10], \n",
    "            [-1,  3, -5], \n",
    "            [ 3, -9, 15]]\n",
    "\n",
    "print(\"The Rank of a Matrix (4.1): \", np.linalg.matrix_rank(matrixA))\n",
    "print(\"The Rank of a Matrix (4.2): \", np.linalg.matrix_rank(matrixB))\n",
    "print(\"The Rank of a Matrix (4.3): \", np.linalg.matrix_rank(matrixC))"
   ]
  },
  {
   "cell_type": "code",
   "execution_count": 20,
   "metadata": {},
   "outputs": [
    {
     "name": "stdout",
     "output_type": "stream",
     "text": [
      "Angle between [3, -4, -1] and [0, 5, 2] is 143.24 degrees\n",
      "Angle between [1, 1, 1] and [3, 3, 3] is 0.0 degrees\n",
      "Angle between [-3, 4, 1] and [0, -5, -2] is 143.24 degrees\n"
     ]
    }
   ],
   "source": [
    "def find_theta(a, b):\n",
    "    a_norm = np.linalg.norm(a)\n",
    "    b_norm = np.linalg.norm(b)\n",
    "    return math.acos(np.dot(a, b)/(a_norm * b_norm)) * (180.0 / math.pi)\n",
    "\n",
    "A1, B1 = [ 3, -4, -1], [0,  5,  2]\n",
    "A2, B2 = [ 1,  1,  1], [3,  3,  3]\n",
    "A3, B3 = [-3, 4,  1], [0, -5, -2]\n",
    "\n",
    "for a, b in zip([A1, A2, A3], [B1, B2, B3]):\n",
    "    print(f'Angle between {a} and {b} is {np.round(find_theta(a, b), 2)} degrees')"
   ]
  }
 ],
 "metadata": {
  "kernelspec": {
   "display_name": "Python 3.9.2 64-bit",
   "language": "python",
   "name": "python3"
  },
  "language_info": {
   "codemirror_mode": {
    "name": "ipython",
    "version": 3
   },
   "file_extension": ".py",
   "mimetype": "text/x-python",
   "name": "python",
   "nbconvert_exporter": "python",
   "pygments_lexer": "ipython3",
   "version": "3.9.2"
  },
  "vscode": {
   "interpreter": {
    "hash": "c6a2dc670f3436433c0efae6fb324965c1072d8aef0b90287abce79ee9328779"
   }
  }
 },
 "nbformat": 4,
 "nbformat_minor": 4
}
