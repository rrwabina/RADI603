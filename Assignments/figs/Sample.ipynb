{
 "cells": [
  {
   "cell_type": "code",
   "execution_count": 2,
   "metadata": {},
   "outputs": [
    {
     "data": {
      "text/plain": [
       "20713.2"
      ]
     },
     "execution_count": 2,
     "metadata": {},
     "output_type": "execute_result"
    }
   ],
   "source": [
    "import numpy as np\n",
    "\n",
    "w = [200, 250, 310]\n",
    "c = [20.23, 30.56, 29.12]\n",
    "\n",
    "np.dot(w, c)"
   ]
  },
  {
   "cell_type": "code",
   "execution_count": null,
   "metadata": {},
   "outputs": [],
   "source": []
  },
  {
   "cell_type": "code",
   "execution_count": 1,
   "metadata": {},
   "outputs": [],
   "source": [
    "import numpy as np\n",
    "def get_operation_index(equation):\n",
    "    numbers = ['0', '1', '2', '3', '4', '5', '6', '7', '8', '9', '.']\n",
    "    operation_index = []\n",
    "    for index, num in enumerate(list(equation)):\n",
    "        if equation[index] not in numbers:\n",
    "            operation_index.append(index)\n",
    "    return operation_index\n",
    "\n",
    "def extract_numbers(equation, operation_index):\n",
    "    start = 0\n",
    "    values = []\n",
    "    for index in operation_index:\n",
    "        if start == 0:\n",
    "            values.append(equation[start:index])\n",
    "            start = index + 1\n",
    "        values.append(equation[start:index])\n",
    "        start = index + 1\n",
    "    if index != len(equation):\n",
    "        values.append(equation[index + 1:len(equation)])\n",
    "    values = list(filter(None, values))\n",
    "    values = [float(num) for num in values]\n",
    "    return values\n",
    "\n",
    "def check_equation(equation):\n",
    "    for index, value in enumerate(equation):\n",
    "        operations = ['+', '-', '*', 'x', '/']\n",
    "        if equation[index] == '/':\n",
    "            assert (equation[index + 1] != float(0) or equation[index + 1] != float(0)), 'Solution is undefined. No division by zero!'\n",
    "        if equation[index] in operations:\n",
    "            assert equation[index + 1] not in operations, 'Wrong equation. No operator should be succeeded by another operator exluding parentheses.'\n",
    "        if equation[index] == 'x':\n",
    "            equation[index] = '*'\n",
    "    return equation\n",
    "\n",
    "def create_new_equation(equation, values):\n",
    "    '''\n",
    "    Creates a new format of the equation\n",
    "    Args: equation: given problem, values: list of numbers in the given problem\n",
    "    Output: List: new_equation\n",
    "    '''\n",
    "    new_equation = list(np.zeros(len(equation)))\n",
    "    numbers = ['0', '1', '2', '3', '4', '5', '6', '7', '8', '9', '.']\n",
    "    for index, value in enumerate(equation):\n",
    "        if value not in numbers:\n",
    "            new_equation.insert(index, value)\n",
    "    new_equation = new_equation[0:len(equation)]\n",
    "    new_equation = list(filter(lambda a: a != ' ', new_equation))  \n",
    "\n",
    "    for index, value in enumerate(new_equation):\n",
    "        if index != 0:\n",
    "            if new_equation[index] == float(0) and new_equation[index + 1] == float(0):\n",
    "                new_equation[index] = '#'\n",
    "        else:\n",
    "            new_equation[index] = '#'\n",
    "    new_equation = list(filter(lambda a: a != '#', new_equation))  \n",
    "    get_num_index = [index for index, value in enumerate(new_equation) if value == float(0)]\n",
    "    replacement = dict(zip(get_num_index, values))\n",
    "    for replace, value in zip(replacement.keys(), replacement.values()):\n",
    "        new_equation[replace] = float(value)\n",
    "    return new_equation\n",
    "\n",
    "def get_index_parenthesis(new_equation):\n",
    "    location = {}\n",
    "    for index, item in enumerate(new_equation):\n",
    "        if new_equation[index] == '(' and isinstance(new_equation[index + 1], (np.int, np.float)) is True:\n",
    "            location[index] = new_equation.index(')', index) + 1\n",
    "    if len(location) > 0:\n",
    "        check = 1\n",
    "    else:\n",
    "        check = 0\n",
    "    return location, check\n",
    "\n",
    "def evaluate_parenthesis(equation, start, end):\n",
    "    return eval(''.join(map(str, equation[start:end])))\n",
    "\n",
    "def check_format(new_equation):\n",
    "    '''\n",
    "    Verifies the correctness of the new equation from the given problem. \n",
    "    Args: new_equation = organized equation from the create_new_function function\n",
    "    Output: Corrected format of new_equation\n",
    "    '''\n",
    "    for index, item in enumerate(new_equation):\n",
    "        if index != (len(new_equation) - 1):\n",
    "            if isinstance(new_equation[index], (np.int, np.float)) is True and new_equation[index + 1] == '(':\n",
    "                new_equation = np.insert(np.array(new_equation), index + 1, '*') \n",
    "    return new_equation \n",
    "\n",
    "def main(equation, display = False):\n",
    "    '''\n",
    "    Sample equation = '((((65 + 40) * 2) - 10) / 15) - 4 * 20 + 10 * (50) - 2 / (4 + 5 * 10)'\n",
    "    '''\n",
    "    operation_index = get_operation_index(equation)\n",
    "    values = extract_numbers(equation, operation_index)\n",
    "    new_equation = create_new_equation(equation, values)\n",
    "    new_equation = check_equation(new_equation)\n",
    "    while True:\n",
    "        if ('(' or ')') in new_equation:\n",
    "            location, check = get_index_parenthesis(new_equation)\n",
    "            answer = {}\n",
    "            for key, value in zip(location.keys(), location.values()):\n",
    "                answer[key, value] = evaluate_parenthesis(new_equation, key, value)\n",
    "            for key, value in zip(answer.keys(), answer.values()):\n",
    "                new_equation[key[0]] = value\n",
    "                for idx in range(key[0] + 1, key[1]):\n",
    "                    new_equation[idx] = '#'\n",
    "            new_equation = list(filter(lambda a: a != '#', new_equation))  \n",
    "            if display is True:\n",
    "                print(np.array(new_equation))\n",
    "        else:\n",
    "            answer = round(eval(''.join(map(str, new_equation))), 3)\n",
    "            # assert round(eval(''.join(map(str, equation))), 3) == answer\n",
    "            break\n",
    "    return answer"
   ]
  },
  {
   "cell_type": "code",
   "execution_count": 3,
   "metadata": {},
   "outputs": [
    {
     "ename": "IndexError",
     "evalue": "list index out of range",
     "output_type": "error",
     "traceback": [
      "\u001b[1;31m---------------------------------------------------------------------------\u001b[0m",
      "\u001b[1;31mIndexError\u001b[0m                                Traceback (most recent call last)",
      "\u001b[1;32m<ipython-input-3-10f6c0b95fe4>\u001b[0m in \u001b[0;36m<module>\u001b[1;34m\u001b[0m\n\u001b[0;32m      1\u001b[0m \u001b[0mequation\u001b[0m \u001b[1;33m=\u001b[0m \u001b[1;34m'(13 + 5) * 3'\u001b[0m\u001b[1;33m\u001b[0m\u001b[1;33m\u001b[0m\u001b[0m\n\u001b[1;32m----> 2\u001b[1;33m \u001b[0mmain\u001b[0m\u001b[1;33m(\u001b[0m\u001b[0mequation\u001b[0m\u001b[1;33m)\u001b[0m\u001b[1;33m\u001b[0m\u001b[1;33m\u001b[0m\u001b[0m\n\u001b[0m",
      "\u001b[1;32m<ipython-input-1-d656a39ccf42>\u001b[0m in \u001b[0;36mmain\u001b[1;34m(equation, display)\u001b[0m\n\u001b[0;32m     93\u001b[0m     \u001b[0moperation_index\u001b[0m \u001b[1;33m=\u001b[0m \u001b[0mget_operation_index\u001b[0m\u001b[1;33m(\u001b[0m\u001b[0mequation\u001b[0m\u001b[1;33m)\u001b[0m\u001b[1;33m\u001b[0m\u001b[1;33m\u001b[0m\u001b[0m\n\u001b[0;32m     94\u001b[0m     \u001b[0mvalues\u001b[0m \u001b[1;33m=\u001b[0m \u001b[0mextract_numbers\u001b[0m\u001b[1;33m(\u001b[0m\u001b[0mequation\u001b[0m\u001b[1;33m,\u001b[0m \u001b[0moperation_index\u001b[0m\u001b[1;33m)\u001b[0m\u001b[1;33m\u001b[0m\u001b[1;33m\u001b[0m\u001b[0m\n\u001b[1;32m---> 95\u001b[1;33m     \u001b[0mnew_equation\u001b[0m \u001b[1;33m=\u001b[0m \u001b[0mcreate_new_equation\u001b[0m\u001b[1;33m(\u001b[0m\u001b[0mequation\u001b[0m\u001b[1;33m,\u001b[0m \u001b[0mvalues\u001b[0m\u001b[1;33m)\u001b[0m\u001b[1;33m\u001b[0m\u001b[1;33m\u001b[0m\u001b[0m\n\u001b[0m\u001b[0;32m     96\u001b[0m     \u001b[0mnew_equation\u001b[0m \u001b[1;33m=\u001b[0m \u001b[0mcheck_equation\u001b[0m\u001b[1;33m(\u001b[0m\u001b[0mnew_equation\u001b[0m\u001b[1;33m)\u001b[0m\u001b[1;33m\u001b[0m\u001b[1;33m\u001b[0m\u001b[0m\n\u001b[0;32m     97\u001b[0m     \u001b[1;32mwhile\u001b[0m \u001b[1;32mTrue\u001b[0m\u001b[1;33m:\u001b[0m\u001b[1;33m\u001b[0m\u001b[1;33m\u001b[0m\u001b[0m\n",
      "\u001b[1;32m<ipython-input-1-d656a39ccf42>\u001b[0m in \u001b[0;36mcreate_new_equation\u001b[1;34m(equation, values)\u001b[0m\n\u001b[0;32m     50\u001b[0m     \u001b[1;32mfor\u001b[0m \u001b[0mindex\u001b[0m\u001b[1;33m,\u001b[0m \u001b[0mvalue\u001b[0m \u001b[1;32min\u001b[0m \u001b[0menumerate\u001b[0m\u001b[1;33m(\u001b[0m\u001b[0mnew_equation\u001b[0m\u001b[1;33m)\u001b[0m\u001b[1;33m:\u001b[0m\u001b[1;33m\u001b[0m\u001b[1;33m\u001b[0m\u001b[0m\n\u001b[0;32m     51\u001b[0m         \u001b[1;32mif\u001b[0m \u001b[0mindex\u001b[0m \u001b[1;33m!=\u001b[0m \u001b[1;36m0\u001b[0m\u001b[1;33m:\u001b[0m\u001b[1;33m\u001b[0m\u001b[1;33m\u001b[0m\u001b[0m\n\u001b[1;32m---> 52\u001b[1;33m             \u001b[1;32mif\u001b[0m \u001b[0mnew_equation\u001b[0m\u001b[1;33m[\u001b[0m\u001b[0mindex\u001b[0m\u001b[1;33m]\u001b[0m \u001b[1;33m==\u001b[0m \u001b[0mfloat\u001b[0m\u001b[1;33m(\u001b[0m\u001b[1;36m0\u001b[0m\u001b[1;33m)\u001b[0m \u001b[1;32mand\u001b[0m \u001b[0mnew_equation\u001b[0m\u001b[1;33m[\u001b[0m\u001b[0mindex\u001b[0m \u001b[1;33m+\u001b[0m \u001b[1;36m1\u001b[0m\u001b[1;33m]\u001b[0m \u001b[1;33m==\u001b[0m \u001b[0mfloat\u001b[0m\u001b[1;33m(\u001b[0m\u001b[1;36m0\u001b[0m\u001b[1;33m)\u001b[0m\u001b[1;33m:\u001b[0m\u001b[1;33m\u001b[0m\u001b[1;33m\u001b[0m\u001b[0m\n\u001b[0m\u001b[0;32m     53\u001b[0m                 \u001b[0mnew_equation\u001b[0m\u001b[1;33m[\u001b[0m\u001b[0mindex\u001b[0m\u001b[1;33m]\u001b[0m \u001b[1;33m=\u001b[0m \u001b[1;34m'#'\u001b[0m\u001b[1;33m\u001b[0m\u001b[1;33m\u001b[0m\u001b[0m\n\u001b[0;32m     54\u001b[0m         \u001b[1;32melse\u001b[0m\u001b[1;33m:\u001b[0m\u001b[1;33m\u001b[0m\u001b[1;33m\u001b[0m\u001b[0m\n",
      "\u001b[1;31mIndexError\u001b[0m: list index out of range"
     ]
    }
   ],
   "source": [
    "equation = '(13 + 5) * 3'\n",
    "main(equation)"
   ]
  },
  {
   "cell_type": "code",
   "execution_count": 5,
   "metadata": {},
   "outputs": [],
   "source": [
    "def extract_numbers(equation, operation_index):\n",
    "    start = 0\n",
    "    values = []\n",
    "    for index in operation_index:\n",
    "        if start == 0:\n",
    "            values.append(equation[start:index])\n",
    "            start = index + 1\n",
    "        values.append(equation[start:index])\n",
    "        start = index + 1\n",
    "    if index != len(equation):\n",
    "        values.append(equation[index + 1:len(equation)])\n",
    "    values = list(filter(None, values))\n",
    "    values = [float(num) for num in values]\n",
    "    return values\n",
    "\n"
   ]
  },
  {
   "cell_type": "code",
   "execution_count": 6,
   "metadata": {},
   "outputs": [
    {
     "data": {
      "text/plain": [
       "30416.379"
      ]
     },
     "execution_count": 6,
     "metadata": {},
     "output_type": "execute_result"
    }
   ],
   "source": [
    "equation = '5626.565615 / (50 / 265.6565656) + 34.25 + (23 / 2 + 8) - (10 + 23 + 23) + 3 x (4 x 5) - ((((65.4 + 40) * 2) - 10) / 50) - 4 * 20 + 10 * (50) - 2 / (4 + 5 * 10) + ((10 + 10 * 23)/5)'\n",
    "main(equation)"
   ]
  },
  {
   "cell_type": "code",
   "execution_count": 13,
   "metadata": {},
   "outputs": [
    {
     "data": {
      "text/plain": [
       "array([0., 0., 0., 0., 0., 0., 0., 0., 0., 0., 0., 0.])"
      ]
     },
     "execution_count": 13,
     "metadata": {},
     "output_type": "execute_result"
    }
   ],
   "source": [
    "equation = '(13 + 5) * 3'\n",
    "np.zeros(len(equation))"
   ]
  },
  {
   "cell_type": "code",
   "execution_count": 11,
   "metadata": {},
   "outputs": [],
   "source": [
    "def create_new_equation(equation, values):\n",
    "    '''\n",
    "    Creates a new format of the equation\n",
    "    Args: equation: given problem, values: list of numbers in the given problem\n",
    "    Output: List: new_equation\n",
    "    '''\n",
    "    new_equation = list(np.zeros(len(equation)))\n",
    "    numbers = ['0', '1', '2', '3', '4', '5', '6', '7', '8', '9', '.']\n",
    "    for index, value in enumerate(equation):\n",
    "        if value not in numbers:\n",
    "            new_equation.insert(index, value)\n",
    "    new_equation = new_equation[0:len(equation)]\n",
    "    new_equation = list(filter(lambda a: a != ' ', new_equation))  \n",
    "\n",
    "    for index, value in enumerate(new_equation):\n",
    "        if index != 0:\n",
    "            if new_equation[index] == float(0) and new_equation[index + 1] == float(0):\n",
    "                new_equation[index] = '#'\n",
    "        else:\n",
    "            new_equation[index] = '#'\n",
    "    new_equation = list(filter(lambda a: a != '#', new_equation))  \n",
    "    get_num_index = [index for index, value in enumerate(new_equation) if value == float(0)]\n",
    "    replacement = dict(zip(get_num_index, values))\n",
    "    for replace, value in zip(replacement.keys(), replacement.values()):\n",
    "        new_equation[replace] = float(value)\n",
    "    return new_equation"
   ]
  },
  {
   "cell_type": "code",
   "execution_count": 17,
   "metadata": {},
   "outputs": [
    {
     "data": {
      "text/plain": [
       "'(13 + 5) * 3'"
      ]
     },
     "execution_count": 17,
     "metadata": {},
     "output_type": "execute_result"
    }
   ],
   "source": [
    "equation"
   ]
  },
  {
   "cell_type": "code",
   "execution_count": 19,
   "metadata": {},
   "outputs": [
    {
     "name": "stdout",
     "output_type": "stream",
     "text": [
      "['(', 0.0, 0.0, 0.0, 0.0, 0.0, 0.0, 0.0, 0.0, 0.0, 0.0, 0.0, 0.0]\n",
      "['(', 0.0, 0.0, ' ', 0.0, 0.0, 0.0, 0.0, 0.0, 0.0, 0.0, 0.0, 0.0, 0.0]\n",
      "['(', 0.0, 0.0, ' ', '+', 0.0, 0.0, 0.0, 0.0, 0.0, 0.0, 0.0, 0.0, 0.0, 0.0]\n",
      "['(', 0.0, 0.0, ' ', '+', ' ', 0.0, 0.0, 0.0, 0.0, 0.0, 0.0, 0.0, 0.0, 0.0, 0.0]\n",
      "['(', 0.0, 0.0, ' ', '+', ' ', 0.0, ')', 0.0, 0.0, 0.0, 0.0, 0.0, 0.0, 0.0, 0.0, 0.0]\n",
      "['(', 0.0, 0.0, ' ', '+', ' ', 0.0, ')', ' ', 0.0, 0.0, 0.0, 0.0, 0.0, 0.0, 0.0, 0.0, 0.0]\n",
      "['(', 0.0, 0.0, ' ', '+', ' ', 0.0, ')', ' ', '*', 0.0, 0.0, 0.0, 0.0, 0.0, 0.0, 0.0, 0.0, 0.0]\n",
      "['(', 0.0, 0.0, ' ', '+', ' ', 0.0, ')', ' ', '*', ' ', 0.0, 0.0, 0.0, 0.0, 0.0, 0.0, 0.0, 0.0, 0.0]\n"
     ]
    },
    {
     "data": {
      "text/plain": [
       "['(', 0.0, 0.0, ' ', '+', ' ', 0.0, ')', ' ', '*', ' ', 0.0]"
      ]
     },
     "execution_count": 19,
     "metadata": {},
     "output_type": "execute_result"
    }
   ],
   "source": [
    "new_equation = list(np.zeros(len(equation)))\n",
    "numbers = ['0', '1', '2', '3', '4', '5', '6', '7', '8', '9', '.']\n",
    "for index, value in enumerate(equation):\n",
    "    if value not in numbers:\n",
    "        new_equation.insert(index, value)\n",
    "        print(new_equation)\n",
    "new_equation = new_equation[0:len(equation)]\n",
    "# new_equation = list(filter(lambda a: a != ' ', new_equation))  \n",
    "new_equation"
   ]
  }
 ],
 "metadata": {
  "kernelspec": {
   "display_name": "Python 3.8.5 ('base')",
   "language": "python",
   "name": "python3"
  },
  "language_info": {
   "codemirror_mode": {
    "name": "ipython",
    "version": 3
   },
   "file_extension": ".py",
   "mimetype": "text/x-python",
   "name": "python",
   "nbconvert_exporter": "python",
   "pygments_lexer": "ipython3",
   "version": "3.8.5"
  },
  "vscode": {
   "interpreter": {
    "hash": "3608206ce1eb198bd23abae205dd191f991de1c92dbe872a18ef9e948d8a869d"
   }
  }
 },
 "nbformat": 4,
 "nbformat_minor": 4
}
