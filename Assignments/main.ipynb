{
 "cells": [
  {
   "cell_type": "code",
   "execution_count": 1,
   "metadata": {},
   "outputs": [],
   "source": [
    "import pandas as pd\n",
    "import uvicorn\n",
    "from fastapi import FastAPI\n",
    "from fastapi.responses import HTMLResponse\n",
    "import pandera as pa \n",
    "from pandera.typing import DataFrame"
   ]
  },
  {
   "cell_type": "code",
   "execution_count": 10,
   "metadata": {},
   "outputs": [],
   "source": [
    "app = FastAPI()\n",
    "ref = pd.read_csv('ref.csv')"
   ]
  },
  {
   "cell_type": "code",
   "execution_count": 14,
   "metadata": {},
   "outputs": [],
   "source": [
    "@app.get(\"/\", response_class = HTMLResponse)\n",
    "def root():\n",
    "    return \"\"\"\n",
    "            <html>\n",
    "                <head>\n",
    "                    <title> HTML Elements Reference </title>\n",
    "                </head>\n",
    "                <body>\n",
    "                    <h1> Rama ECG Project </h1>\n",
    "                    <p> This is the initial version. </p>\n",
    "                </body>\n",
    "            </html>\n",
    "          \"\"\""
   ]
  },
  {
   "cell_type": "code",
   "execution_count": 17,
   "metadata": {},
   "outputs": [],
   "source": [
    "@app.get('/infer/{text}')\n",
    "def infer(text: str):\n",
    "    res = ref[ref['input'] == text]\n",
    "    if len(res.index) == 0:\n",
    "        return \"Unknown\"\n",
    "    else:\n",
    "        return res['output'].values[0]"
   ]
  },
  {
   "cell_type": "code",
   "execution_count": null,
   "metadata": {},
   "outputs": [],
   "source": [
    "if __name__ == \"__main__\":\n",
    "    uvicorn.run(app, host = '0.0.0.0', port = 80, debug = True)"
   ]
  },
  {
   "cell_type": "code",
   "execution_count": 17,
   "metadata": {},
   "outputs": [
    {
     "data": {
      "text/plain": [
       "'Internal Server Error'"
      ]
     },
     "execution_count": 17,
     "metadata": {},
     "output_type": "execute_result"
    }
   ],
   "source": [
    "import requests\n",
    "text = \"abnormal ECG\"\n",
    "headers = {'Content-Type': 'application/json'}\n",
    "res = requests.post('http://127.0.0.1:8000/infer/{}'.format(text), headers = headers)\n",
    "res.text"
   ]
  }
 ],
 "metadata": {
  "kernelspec": {
   "display_name": "Python 3.9.2 64-bit",
   "language": "python",
   "name": "python3"
  },
  "language_info": {
   "codemirror_mode": {
    "name": "ipython",
    "version": 3
   },
   "file_extension": ".py",
   "mimetype": "text/x-python",
   "name": "python",
   "nbconvert_exporter": "python",
   "pygments_lexer": "ipython3",
   "version": "3.9.2"
  },
  "vscode": {
   "interpreter": {
    "hash": "c6a2dc670f3436433c0efae6fb324965c1072d8aef0b90287abce79ee9328779"
   }
  }
 },
 "nbformat": 4,
 "nbformat_minor": 4
}
