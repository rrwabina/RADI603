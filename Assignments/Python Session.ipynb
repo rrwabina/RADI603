{
 "cells": [
  {
   "cell_type": "markdown",
   "metadata": {},
   "source": [
    "## **Python Class**\n",
    "\n",
    "**Romen Samuel Rodis Wabina** <br>\n",
    "Student, *PhD Data Science in Healthcare and Clinical Informatics* <br>\n"
   ]
  },
  {
   "cell_type": "code",
   "execution_count": 1,
   "metadata": {},
   "outputs": [
    {
     "data": {
      "text/plain": [
       "str"
      ]
     },
     "execution_count": 1,
     "metadata": {},
     "output_type": "execute_result"
    }
   ],
   "source": [
    "import numpy as np\n",
    "import pandas as pd \n",
    "\n",
    "text = input()\n",
    "type(text)"
   ]
  },
  {
   "cell_type": "code",
   "execution_count": 2,
   "metadata": {},
   "outputs": [
    {
     "data": {
      "text/plain": [
       "[1, 2, 4]"
      ]
     },
     "execution_count": 2,
     "metadata": {},
     "output_type": "execute_result"
    }
   ],
   "source": [
    "text = 'I\\'m not okay.'\n",
    "a = (1, 2, 3)\n",
    "b = 1, 2, 3\n",
    "assert type(a) == type(b)\n",
    "\n",
    "\n",
    "sample = (2, 1, 1, 3, 1, 4)\n",
    "def indices(mylist, value):\n",
    "    return [i for i, x in enumerate(mylist) if x == value]\n",
    "indices(sample, 1)"
   ]
  },
  {
   "cell_type": "code",
   "execution_count": 3,
   "metadata": {},
   "outputs": [
    {
     "name": "stdout",
     "output_type": "stream",
     "text": [
      "The value is: 1\n",
      "The value is: 6\n"
     ]
    }
   ],
   "source": [
    "import random\n",
    "min, max = 1, 6\n",
    "roll_again = True\n",
    "while roll_again:\n",
    "    value = random.randint(min, max)\n",
    "    print(f'The value is: {value}')\n",
    "    if value == 6: #Just random assignment \n",
    "        break"
   ]
  },
  {
   "cell_type": "code",
   "execution_count": 4,
   "metadata": {},
   "outputs": [
    {
     "data": {
      "text/plain": [
       "3"
      ]
     },
     "execution_count": 4,
     "metadata": {},
     "output_type": "execute_result"
    }
   ],
   "source": [
    "import numpy as np\n",
    "values  = [1, 2, 3, 4, 5, 6]\n",
    "probas  = [0.1, 0.2, 0.2, 0.2, 0.2, 0.1]\n",
    "sample  = np.random.choice(values, p = probas)\n",
    "sample"
   ]
  },
  {
   "cell_type": "code",
   "execution_count": 5,
   "metadata": {},
   "outputs": [
    {
     "name": "stdout",
     "output_type": "stream",
     "text": [
      "defaultdict(<class 'int'>, {7: 6, 12: 4, 8: 13, 6: 8, 3: 3, 10: 2, 9: 4, 5: 4, 11: 2, 4: 4})\n"
     ]
    }
   ],
   "source": [
    "from collections import defaultdict\n",
    "from random import randint\n",
    "\n",
    "n = 50\n",
    "\n",
    "results = defaultdict(int)\n",
    "\n",
    "for _ in range(n):\n",
    "    die_1 = randint(1, 6)\n",
    "    die_2 = randint(1, 6)\n",
    "    results[die_1 + die_2] += 1\n",
    "\n",
    "print(results)"
   ]
  },
  {
   "cell_type": "code",
   "execution_count": 6,
   "metadata": {},
   "outputs": [
    {
     "data": {
      "text/plain": [
       "6"
      ]
     },
     "execution_count": 6,
     "metadata": {},
     "output_type": "execute_result"
    }
   ],
   "source": [
    "def dice_problem(N):\n",
    "    if (N == 0):\n",
    "        return 1\n",
    "    count = 0\n",
    "    outcomes = []\n",
    "    while len(outcomes) < 6:\n",
    "        outcome = np.random.choice(range(1, n + 1), 1, replace = True)\n",
    "        outcomes.append(outcome[0])\n",
    "        outcomes = list(set(outcomes))\n",
    "        count += 1\n",
    "    return count\n",
    "\n",
    "\n",
    "\n",
    "def roll(n):\n",
    "    count = 0\n",
    "    outcomes = []\n",
    "    while len(outcomes) < 6:\n",
    "        outcome = np.random.choice(range(1, n + 1), 1, replace = True)\n",
    "        outcomes.append(outcome[0])\n",
    "        outcomes = list(set(outcomes))\n",
    "        count += 1\n",
    "    return count\n",
    "dice_problem(6)"
   ]
  },
  {
   "cell_type": "code",
   "execution_count": 7,
   "metadata": {},
   "outputs": [
    {
     "name": "stdout",
     "output_type": "stream",
     "text": [
      "32\n"
     ]
    }
   ],
   "source": [
    "# Function to calculate the total number of ways to have sum N\n",
    "def diceproblem(N):\n",
    "    dp = [0] * (N + 1)\n",
    "    dp[0] = 1\n",
    "    for i in range(1, N + 1):\n",
    "        dp[i] = 0\n",
    "        for j in range(1, 7):\n",
    "            if (i - j >= 0):\n",
    "                dp[i] = dp[i] + dp[i - j];\n",
    " \n",
    "    print(dp[N])\n",
    "diceproblem(6)"
   ]
  },
  {
   "cell_type": "code",
   "execution_count": 8,
   "metadata": {},
   "outputs": [],
   "source": [
    "import mysql.connector\n",
    "\n",
    "database = mysql.connector.connect(\n",
    "                host = '127.0.0.1',\n",
    "                user = 'root',\n",
    "                password = 'Carpediem13',\n",
    "                database = 'car')\n",
    "\n",
    "mycursor = database.cursor()\n",
    "mycursor.execute('USE car')\n",
    "mycursor.execute('SELECT * FROM cartype')\n",
    "myresult = mycursor.fetchall()"
   ]
  },
  {
   "cell_type": "code",
   "execution_count": 9,
   "metadata": {},
   "outputs": [
    {
     "name": "stdout",
     "output_type": "stream",
     "text": [
      "(1, 'Mini', Decimal('100.00'), Decimal('720.00'), Decimal('20.00'), Decimal('240.00'), Decimal('1100.00'), 'Active', Decimal('5000.00'))\n",
      "(2, 'Economy', Decimal('115.00'), Decimal('820.00'), Decimal('20.00'), Decimal('240.00'), Decimal('1100.00'), 'Active', Decimal('5000.00'))\n",
      "(3, 'Intermediate', Decimal('100.00'), Decimal('1100.00'), Decimal('25.00'), Decimal('300.00'), Decimal('1100.00'), 'Active', Decimal('7000.00'))\n",
      "(4, 'SUV', Decimal('270.00'), Decimal('2000.00'), Decimal('30.00'), Decimal('330.00'), Decimal('1100.00'), 'Active', Decimal('10000.00'))\n"
     ]
    }
   ],
   "source": [
    "for x in myresult:\n",
    "    print(x)"
   ]
  },
  {
   "cell_type": "code",
   "execution_count": 5,
   "metadata": {},
   "outputs": [],
   "source": [
    "import numpy as np\n",
    "import matplotlib.pyplot as plt\n",
    "\n",
    "#PR-03\n",
    "x1=16.403\n",
    "d1 =np.array([-1,-2,-3,-4,-5,-6,-7,-8,-9,-10,-11,-12,-13,-14,-15,-16,-17,-18,-19,-20,-21,-22,-23,-24,-25,-26,-27,-28,-29,-30,-31,-32, -33, -34])\n",
    "Vp1=np.array([1095.42, 730.88, 989.79, 1144.34, 915.49, 694.59, 991.40, 1012.29, 1259.85, 1269.63, 1289.34, 1307.73, 1266.78, 1282.34, 1342.23, 1356.71, 1370.50, 1427.58, 1634.42, 1648.60, 2463.05, 2542.37, 2777.78, 2777.78, 2654.87, 2752.29, 2752.29, 2586.21, 2803.74, 2678.57, 2343.75,2272.73,2238.81,2173.91])\n",
    "Vs1=np.array([208.7, 127.1, 180.0, 228.9, 174.4,120.8,188.8,192.8, 265.2, 282.1,286.5,290.6, 281.5, 285.0, 298.3, 301.5, 304.6, 317.2, 384.6, 387.9, 1193.2, 1095.4, 1304.4, 1293.1, 1296.6, 1547.9, 1220.2, 1304.4, 1489.2, 1136.4, 1352.3, 975.8, 971.2, 793.7])\n",
    "\n",
    "#IS-86\n",
    "x2=15.487\n",
    "d2 =np.array([-3,-4,-5,-6,-7,-8,-9,-10,-11,-12,-13,-14,-15,-16,-17,-18,-19,-20,-21,-22,-23,-24,-25,-26,-27,-28,-29,-30,-31,-32, -33, -34,-35,-36,-37,-38,-39])\n",
    "Vp2=np.array([1851.85,1863.35,1886.79,1973.68,1960.78,1923.08,2150.54,2222.22,2272.73,2352.94,2040.82,1941.75,1980.20,1923.08,1923.08,1801.80,1652.89,1980.20,1834.86,1869.16,1941.75,1941.75,1754.39,1923.08,1851.85,2127.66,2272.73,2197.80,2150.54,2272.73,2298.85,2127.66,2173.91,2247.19,2298.85,2127.66,2127.66])\n",
    "Vs2=np.array([934.66,929.87,808.34,1127.15,1021.59,971.70,1025.91,1075.39,1087.47,1124.87,892.86,740.78,870.16,854.76,862.07,787.45,724.64,807.29,715.60,629.16,893.14,856.27,657.90,877.46,680.30,1020.83,1163.42,1162.79,1087.47,1266.03,1234.76,980.77,1136.36,1052.75,1163.42,1111.66,1123.74,])\n",
    "\n",
    "\n",
    "#IS-91\n",
    "x3=17.317\n",
    "d3 =np.array([-2,-3,-4,-5,-6,-7,-8,-9,-10,-11,-12,-13,-14,-15,-16,-17,-18,-19,-20,-21,-22,-23,-24,-25,-26,-27,-28,-29])\n",
    "Vp3=np.array([1888.8,2087.2,2027.0,2200.1,2678.6,2542.4,2538.1,2470.9,2439.0,2444.5,2419.4,2238.8,1829.3,1910.8,2027.0,2112.7,2182.5,2376.2,2097.0,2302.6,2539.1,2139.0,2332.4,2752.3,2307.6,2196.0,2125.8,2202.6])\n",
    "Vs3=np.array([714.4,1027.6,909.1,954.6,1456.4,1316.2,1307.7,1231.1,1197.8,1148.8,1136.6,1056.3,691.4,769.3,837.6,955.5,996.4,1073.6,1152.1,1245.2,1229.8,77.2,1046.6,1361.9,1047.7,892.3,785.1,813.3])\n",
    "\n",
    "#PR-01\n",
    "x4=16.317\n",
    "d4 =np.array([-2,-3,-4,-5,-6,-7,-8,-9,-10,-11,-12,-13,-14,-15,-16,-17,-18,-19,-20,-21,-22,-23,-24,-25,-26,-27,-28,-29,-30,-31,-32, -33, -34,-35,-36])\n",
    "Vp4=np.array([834.5,896.6,1040.8,976.5,1008.5,1374.5,1716.0,1716.0,1716.0,2381.0,2564.1,2013.4,2238.8,2325.6,2150.5,2173.9,1973.7,1960.8,2020.2,2013.4,2020.2,2197.8,2586.2,2500.0,2985.1,2439.0,1960.8,2150.5,2105.3,2083.3,2127.7,2238.8,2150.5,2352.9,2020.2])\n",
    "Vs4=np.array([151.7,163.0,208.2,195.3,201.7,305.4,520.0,520.0,520.0,1064.3,1223.5,953.2,980.0,955.5,909.1,917.5,787.5,793.7,907.7,1014.3,1078.4,920.4,1408.7,992.1,1669.5,1196.6,833.3,1031.9,1031.0,821.7,779.4,1041.7,1003.6,1266.0,882.8])"
   ]
  }
 ],
 "metadata": {
  "kernelspec": {
   "display_name": "Python 3.9.2 64-bit",
   "language": "python",
   "name": "python3"
  },
  "language_info": {
   "codemirror_mode": {
    "name": "ipython",
    "version": 3
   },
   "file_extension": ".py",
   "mimetype": "text/x-python",
   "name": "python",
   "nbconvert_exporter": "python",
   "pygments_lexer": "ipython3",
   "version": "3.9.2"
  },
  "vscode": {
   "interpreter": {
    "hash": "c6a2dc670f3436433c0efae6fb324965c1072d8aef0b90287abce79ee9328779"
   }
  }
 },
 "nbformat": 4,
 "nbformat_minor": 4
}
