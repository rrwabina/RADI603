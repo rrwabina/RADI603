{
 "cells": [
  {
   "cell_type": "markdown",
   "metadata": {},
   "source": [
    "## **Python Class**\n",
    "\n",
    "**Romen Samuel Rodis Wabina** <br>\n",
    "Student, *PhD Data Science in Healthcare and Clinical Informatics* <br>\n"
   ]
  },
  {
   "cell_type": "code",
   "execution_count": 1,
   "metadata": {},
   "outputs": [
    {
     "data": {
      "text/plain": [
       "str"
      ]
     },
     "execution_count": 1,
     "metadata": {},
     "output_type": "execute_result"
    }
   ],
   "source": [
    "import numpy as np\n",
    "import pandas as pd \n",
    "\n",
    "text = input()\n",
    "type(text)"
   ]
  },
  {
   "cell_type": "code",
   "execution_count": 2,
   "metadata": {},
   "outputs": [
    {
     "data": {
      "text/plain": [
       "[1, 2, 4]"
      ]
     },
     "execution_count": 2,
     "metadata": {},
     "output_type": "execute_result"
    }
   ],
   "source": [
    "text = 'I\\'m not okay.'\n",
    "a = (1, 2, 3)\n",
    "b = 1, 2, 3\n",
    "assert type(a) == type(b)\n",
    "\n",
    "\n",
    "sample = (2, 1, 1, 3, 1, 4)\n",
    "def indices(mylist, value):\n",
    "    return [i for i, x in enumerate(mylist) if x == value]\n",
    "indices(sample, 1)"
   ]
  },
  {
   "cell_type": "code",
   "execution_count": 3,
   "metadata": {},
   "outputs": [
    {
     "name": "stdout",
     "output_type": "stream",
     "text": [
      "The value is: 1\n",
      "The value is: 2\n",
      "The value is: 2\n",
      "The value is: 1\n",
      "The value is: 2\n",
      "The value is: 2\n",
      "The value is: 3\n",
      "The value is: 3\n",
      "The value is: 4\n",
      "The value is: 4\n",
      "The value is: 6\n"
     ]
    }
   ],
   "source": [
    "import random\n",
    "min, max = 1, 6\n",
    "roll_again = True\n",
    "while roll_again:\n",
    "    value = random.randint(min, max)\n",
    "    print(f'The value is: {value}')\n",
    "    if value == 6: #Just random assignment \n",
    "        break"
   ]
  },
  {
   "cell_type": "code",
   "execution_count": 4,
   "metadata": {},
   "outputs": [
    {
     "data": {
      "text/plain": [
       "5"
      ]
     },
     "execution_count": 4,
     "metadata": {},
     "output_type": "execute_result"
    }
   ],
   "source": [
    "import numpy as np\n",
    "values  = [1, 2, 3, 4, 5, 6]\n",
    "probas  = [0.1, 0.2, 0.2, 0.2, 0.2, 0.1]\n",
    "sample  = np.random.choice(values, p = probas)\n",
    "sample"
   ]
  },
  {
   "cell_type": "code",
   "execution_count": 5,
   "metadata": {},
   "outputs": [
    {
     "name": "stdout",
     "output_type": "stream",
     "text": [
      "defaultdict(<class 'int'>, {6: 9, 9: 6, 5: 8, 4: 4, 7: 6, 10: 6, 12: 2, 8: 4, 2: 2, 11: 3})\n"
     ]
    }
   ],
   "source": [
    "from collections import defaultdict\n",
    "from random import randint\n",
    "\n",
    "n = 50\n",
    "\n",
    "results = defaultdict(int)\n",
    "\n",
    "for _ in range(n):\n",
    "    die_1 = randint(1, 6)\n",
    "    die_2 = randint(1, 6)\n",
    "    results[die_1 + die_2] += 1\n",
    "\n",
    "print(results)"
   ]
  },
  {
   "cell_type": "code",
   "execution_count": 6,
   "metadata": {},
   "outputs": [
    {
     "data": {
      "text/plain": [
       "7"
      ]
     },
     "execution_count": 6,
     "metadata": {},
     "output_type": "execute_result"
    }
   ],
   "source": [
    "def dice_problem(N):\n",
    "    if (N == 0):\n",
    "        return 1\n",
    "    count = 0\n",
    "    outcomes = []\n",
    "    while len(outcomes) < 6:\n",
    "        outcome = np.random.choice(range(1, n + 1), 1, replace = True)\n",
    "        outcomes.append(outcome[0])\n",
    "        outcomes = list(set(outcomes))\n",
    "        count += 1\n",
    "    return count\n",
    "\n",
    "\n",
    "\n",
    "def roll(n):\n",
    "    count = 0\n",
    "    outcomes = []\n",
    "    while len(outcomes) < 6:\n",
    "        outcome = np.random.choice(range(1, n + 1), 1, replace = True)\n",
    "        outcomes.append(outcome[0])\n",
    "        outcomes = list(set(outcomes))\n",
    "        count += 1\n",
    "    return count\n",
    "dice_problem(6)"
   ]
  },
  {
   "cell_type": "code",
   "execution_count": 7,
   "metadata": {},
   "outputs": [
    {
     "name": "stdout",
     "output_type": "stream",
     "text": [
      "32\n"
     ]
    }
   ],
   "source": [
    "# Function to calculate the total number of ways to have sum N\n",
    "def diceproblem(N):\n",
    "    dp = [0] * (N + 1)\n",
    "    dp[0] = 1\n",
    "    for i in range(1, N + 1):\n",
    "        dp[i] = 0\n",
    "        for j in range(1, 7):\n",
    "            if (i - j >= 0):\n",
    "                dp[i] = dp[i] + dp[i - j];\n",
    " \n",
    "    print(dp[N])\n",
    "diceproblem(6)"
   ]
  },
  {
   "cell_type": "code",
   "execution_count": 8,
   "metadata": {},
   "outputs": [],
   "source": [
    "import mysql.connector\n",
    "\n",
    "database = mysql.connector.connect(\n",
    "                host = '127.0.0.1',\n",
    "                user = 'root',\n",
    "                password = 'Carpediem13',\n",
    "                database = 'car')\n",
    "\n",
    "mycursor = database.cursor()\n",
    "mycursor.execute('USE car')\n",
    "mycursor.execute('SELECT * FROM cartype')\n",
    "myresult = mycursor.fetchall()"
   ]
  },
  {
   "cell_type": "code",
   "execution_count": 9,
   "metadata": {},
   "outputs": [
    {
     "name": "stdout",
     "output_type": "stream",
     "text": [
      "(1, 'Mini', Decimal('100.00'), Decimal('720.00'), Decimal('20.00'), Decimal('240.00'), Decimal('1100.00'), 'Active', Decimal('5000.00'))\n",
      "(2, 'Economy', Decimal('115.00'), Decimal('820.00'), Decimal('20.00'), Decimal('240.00'), Decimal('1100.00'), 'Active', Decimal('5000.00'))\n",
      "(3, 'Intermediate', Decimal('100.00'), Decimal('1100.00'), Decimal('25.00'), Decimal('300.00'), Decimal('1100.00'), 'Active', Decimal('7000.00'))\n",
      "(4, 'SUV', Decimal('270.00'), Decimal('2000.00'), Decimal('30.00'), Decimal('330.00'), Decimal('1100.00'), 'Active', Decimal('10000.00'))\n"
     ]
    }
   ],
   "source": [
    "for x in myresult:\n",
    "    print(x)"
   ]
  },
  {
   "cell_type": "code",
   "execution_count": 10,
   "metadata": {},
   "outputs": [],
   "source": [
    "import numpy as np\n",
    "import pandas as pd\n"
   ]
  }
 ],
 "metadata": {
  "kernelspec": {
   "display_name": "Python 3.9.2 64-bit",
   "language": "python",
   "name": "python3"
  },
  "language_info": {
   "codemirror_mode": {
    "name": "ipython",
    "version": 3
   },
   "file_extension": ".py",
   "mimetype": "text/x-python",
   "name": "python",
   "nbconvert_exporter": "python",
   "pygments_lexer": "ipython3",
   "version": "3.9.2"
  },
  "vscode": {
   "interpreter": {
    "hash": "c6a2dc670f3436433c0efae6fb324965c1072d8aef0b90287abce79ee9328779"
   }
  }
 },
 "nbformat": 4,
 "nbformat_minor": 4
}
