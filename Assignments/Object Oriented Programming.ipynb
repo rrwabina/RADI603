{
 "cells": [
  {
   "cell_type": "code",
   "execution_count": 8,
   "metadata": {},
   "outputs": [],
   "source": [
    "import pandas as pd\n",
    "\n",
    "class Utilities:\n",
    "    def __init__(self):\n",
    "        self.data = None\n",
    "        \n",
    "    def get_data(self, filepath):\n",
    "        self.data = pd.read_csv(filepath)"
   ]
  },
  {
   "cell_type": "code",
   "execution_count": 7,
   "metadata": {},
   "outputs": [],
   "source": [
    "import calculator \n",
    "equation = '(12,646.320 + 23 / 4 + 23) 000013 + (4 * 5) - ((((65.4 + 12,340.454) x 2) - 1,561.546)) + (123)'\n",
    "util = calculator.main(equation)"
   ]
  },
  {
   "cell_type": "code",
   "execution_count": 42,
   "metadata": {},
   "outputs": [
    {
     "data": {
      "text/plain": [
       "<mysql.connector.cursor_cext.CMySQLCursor at 0x27560efd190>"
      ]
     },
     "execution_count": 42,
     "metadata": {},
     "output_type": "execute_result"
    }
   ],
   "source": [
    "import mysql.connector\n",
    "{\n",
    "    'host': 'localhost',\n",
    "    'user': 'root',\n",
    "    'port': '3306',\n",
    "    'database': 'superstore',\n",
    "    'password': 'Carpediem13'\n",
    "}\n",
    "\n",
    "database = mysql.connector.connect(\n",
    "                host = '127.0.0.1',\n",
    "                user = 'root',\n",
    "                password = 'Carpediem13',\n",
    "                database = 'superstore')\n",
    "\n",
    "mycursor = database.cursor()\n",
    "mycursor.execute('USE superstore')\n",
    "mycursor.execute('SELECT City FROM superstore.orders')\n",
    "mycursor"
   ]
  },
  {
   "cell_type": "code",
   "execution_count": 36,
   "metadata": {},
   "outputs": [],
   "source": [
    "import pandas as pd\n",
    "import sqlalchemy as sa\n",
    "import json\n",
    "import pymysql\n",
    "\n",
    "df = pd.read_csv('C:/Users/Renan/Desktop/PhD Data Science/RADI 603/SQL/superstore/returns.csv', \n",
    "                 dtype = {'Postal Code': str})\n",
    "\n",
    "mysqlcols = [col.replace('/', '_').replace(' ', '_').lower() for col in df.columns]\n",
    "df = df.rename(columns = dict(zip(df.columns.tolist(), mysqlcols)))\n",
    "\n",
    "with open(\"constr.json\") as f:\n",
    "  constr = json.load(f)\n",
    "f.close()\n",
    "\n",
    "cxn = sa.create_engine('mysql+pymysql://{}:{}@{}:{}/{}'.format(constr['user'],\n",
    "                                                               constr['password'],\n",
    "                                                               constr['host'],\n",
    "                                                               constr['port'],\n",
    "                                                               constr['database']))\n",
    "\n",
    "dmap = {\"int64\": sa.INTEGER, \n",
    "        \"float64\": sa.FLOAT,\n",
    "        \"object\": sa.TEXT,\n",
    "        \"datetime64[ns]\": sa.TIMESTAMP}\n",
    "satypes = [dmap[dtype.name] for dtype in df.dtypes]"
   ]
  },
  {
   "cell_type": "code",
   "execution_count": 37,
   "metadata": {},
   "outputs": [],
   "source": [
    "df.to_sql('people', \n",
    "            if_exists = 'replace', \n",
    "            index = False, \n",
    "            chunksize = 500, \n",
    "            con = cxn, \n",
    "            dtype = dict(zip(df.columns, satypes)))"
   ]
  },
  {
   "cell_type": "code",
   "execution_count": 40,
   "metadata": {},
   "outputs": [],
   "source": [
    "df = pd.read_csv('C:/Users/Renan/Desktop/PhD Data Science/RADI 603/SQL/superstore/orders.csv', \n",
    "                 parse_dates = ['Order Date', 'Ship Date'],\n",
    "                 dtype = {'Postal Code': str})\n",
    "\n",
    "mysqlcols = [col.replace('/', '_').replace(' ', '_').lower() for col in df.columns]\n",
    "df = df.rename(columns = dict(zip(df.columns.tolist(), mysqlcols)))\n",
    "\n",
    "with open(\"constr.json\") as f:\n",
    "  constr = json.load(f)\n",
    "f.close()\n",
    "\n",
    "cxn = sa.create_engine('mysql+pymysql://{}:{}@{}:{}/{}'.format(constr['user'],\n",
    "                                                               constr['password'],\n",
    "                                                               constr['host'],\n",
    "                                                               constr['port'],\n",
    "                                                               constr['database']))\n",
    "\n",
    "dmap = {\"int64\": sa.INTEGER, \n",
    "        \"float64\": sa.FLOAT,\n",
    "        \"object\": sa.TEXT,\n",
    "        \"datetime64[ns]\": sa.TIMESTAMP}\n",
    "satypes = [dmap[dtype.name] for dtype in df.dtypes]\n",
    "\n",
    "# df.to_sql('orders', \n",
    "#             if_exists = 'replace', \n",
    "#             index = False, \n",
    "#             chunksize = 500, \n",
    "#             con = cxn, \n",
    "#             dtype = dict(zip(df.columns, satypes)))"
   ]
  }
 ],
 "metadata": {
  "kernelspec": {
   "display_name": "Python 3.9.2 64-bit",
   "language": "python",
   "name": "python3"
  },
  "language_info": {
   "codemirror_mode": {
    "name": "ipython",
    "version": 3
   },
   "file_extension": ".py",
   "mimetype": "text/x-python",
   "name": "python",
   "nbconvert_exporter": "python",
   "pygments_lexer": "ipython3",
   "version": "3.9.2"
  },
  "vscode": {
   "interpreter": {
    "hash": "c6a2dc670f3436433c0efae6fb324965c1072d8aef0b90287abce79ee9328779"
   }
  }
 },
 "nbformat": 4,
 "nbformat_minor": 4
}
